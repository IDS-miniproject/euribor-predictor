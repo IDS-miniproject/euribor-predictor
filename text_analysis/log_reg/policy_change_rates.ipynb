{
 "cells": [
  {
   "cell_type": "markdown",
   "metadata": {},
   "source": [
    "# Rate change per press release\n",
    "\n",
    "In this file we combine the press conference text data with changes on ECB key rates, assigning each text a value representing the (average) change in the rates. For example if in june 2023 DFR rate was 3.25 and in july 2023 the same rate was 3.50, the june's conference had a negative effect of -0.25."
   ]
  },
  {
   "cell_type": "code",
   "execution_count": 47,
   "metadata": {},
   "outputs": [],
   "source": [
    "import pandas as pd\n",
    "\n",
    "press_releases = pd.read_csv('../ecb_scraper/outputs/clean_text_excl_nums.csv')\n",
    "key_rates = pd.read_csv('../ecb_euribor_correlation/ECB Data Portal_20231016130234.csv')\n",
    "\n",
    "# Merge press_releases and key_rates on date\n",
    "press_releases['date'] = pd.to_datetime(press_releases['date'])\n",
    "key_rates['date'] = pd.to_datetime(key_rates['DATE'])\n",
    "merged = press_releases.merge(key_rates, on='date', how='left')\n",
    "\n",
    "data = merged.drop(columns=['DATE', 'TIME PERIOD'])\n",
    "data = data.rename(columns={data.columns[2]: 'DFR', data.columns[3]: 'MLF', data.columns[4]: ' MRO'})\n",
    "data = data.dropna()\n",
    "\n",
    "# Calculate the change in key rates\n",
    "data['DFR_change'] = data['DFR'].diff()\n",
    "data['MLF_change'] = data['MLF'].diff()\n",
    "data['MRO_change'] = data[' MRO'].diff()\n",
    "data['AVG_change'] = data[['DFR_change', 'MLF_change', 'MRO_change']].mean(axis=1)\n",
    "\n",
    "policy_effect = data[['date', 'text', 'AVG_change']]\n",
    "policy_effect.to_csv('policy_change_rates.csv', index=False)\n",
    "\n",
    "decreasing_rates = policy_effect[policy_effect['AVG_change'] > 0]\n",
    "increasing_rates = policy_effect[policy_effect['AVG_change'] < 0]\n",
    "\n",
    "decreasing_rates.to_csv('decreasing_rates.csv', index=False)\n",
    "increasing_rates.to_csv('increasing_rates.csv', index=False)"
   ]
  },
  {
   "cell_type": "markdown",
   "metadata": {},
   "source": [
    "After splitting the text data, we can look for most common words in each data set to potentially find meaningful words relating to their effect on interest rates."
   ]
  },
  {
   "cell_type": "code",
   "execution_count": 48,
   "metadata": {},
   "outputs": [
    {
     "name": "stdout",
     "output_type": "stream",
     "text": [
      "Most common words in transcripts with rate decreasing effect:\n",
      "[('rate', 1013), ('question', 996), ('euro', 634), ('price', 550), ('inflat', 548), ('area', 545), ('bank', 540), ('govern', 509), ('growth', 461), ('market', 432)] \n",
      "\n",
      "Most common words in transcripts with rate increasing effect:\n",
      "[('rate', 1315), ('question', 1033), ('price', 985), ('inflat', 926), ('euro', 704), ('growth', 676), ('monetari', 667), ('polici', 612), ('market', 547), ('risk', 540)]\n"
     ]
    }
   ],
   "source": [
    "from collections import Counter\n",
    "\n",
    "dec_words = (\" \".join(decreasing_rates['text']).split())\n",
    "inc_words = (\" \".join(increasing_rates['text']).split())\n",
    "\n",
    "dec_most_common = Counter(dec_words).most_common(10)\n",
    "inc_most_common = Counter(inc_words).most_common(10)\n",
    "\n",
    "print(\"Most common words in transcripts with rate decreasing effect:\")\n",
    "print(dec_most_common, \"\\n\")\n",
    "\n",
    "print(\"Most common words in transcripts with rate increasing effect:\")\n",
    "print(inc_most_common)"
   ]
  },
  {
   "cell_type": "markdown",
   "metadata": {},
   "source": [
    "We see here no significant differences yet, despite for the fact that word \"inflat\" appeared ~40% more in the transcript with increasing effect, and word \"risk\" is not present in the top 10 list of transcript with decreasing effect, unlinke in the other set. We now proceed to remove some frequent words that are common in both data sets using rather naive method."
   ]
  },
  {
   "cell_type": "code",
   "execution_count": 49,
   "metadata": {},
   "outputs": [
    {
     "name": "stdout",
     "output_type": "stream",
     "text": [
      "Most common words in transcripts with rate decreasing effect:\n",
      "[('draghi', 217), ('deflat', 71), ('nonstandard', 60), ('ab', 49), ('turmoil', 43), ('net', 36), ('packag', 35), ('subdu', 35), ('intensif', 33), ('fragment', 30)] \n",
      "\n",
      "Most common words in transcripts with rate increasing effect:\n",
      "[('cent', 162), ('hike', 121), ('tpi', 55), ('normalis', 47), ('neutral', 40), ('withdraw', 37), ('datadepend', 33), ('counter', 32), ('paus', 29), ('elev', 28)]\n"
     ]
    },
    {
     "name": "stderr",
     "output_type": "stream",
     "text": [
      "/tmp/ipykernel_37520/1566585234.py:20: SettingWithCopyWarning: \n",
      "A value is trying to be set on a copy of a slice from a DataFrame.\n",
      "Try using .loc[row_indexer,col_indexer] = value instead\n",
      "\n",
      "See the caveats in the documentation: https://pandas.pydata.org/pandas-docs/stable/user_guide/indexing.html#returning-a-view-versus-a-copy\n",
      "  policy_effect['text'] = policy_effect['text'].apply(remove_common_words)\n"
     ]
    }
   ],
   "source": [
    "from collections import Counter\n",
    "import string\n",
    "\n",
    "dec_most_common = Counter(dec_words).most_common(1500)\n",
    "inc_most_common = Counter(inc_words).most_common(1500)\n",
    "\n",
    "dec_common_words = [word for word, count in dec_most_common]\n",
    "inc_common_words = [word for word, count in inc_most_common]\n",
    "\n",
    "# Set of common words that appear in both data sets\n",
    "common_words = set(dec_common_words).intersection(inc_common_words)\n",
    "\n",
    "def remove_common_words(text):\n",
    "    text = text.split()\n",
    "    text = [word for word in text if word not in common_words]\n",
    "    text = \" \".join(text)\n",
    "    return text\n",
    "\n",
    "# Directly manipulate the text columns in the original data set\n",
    "policy_effect['text'] = policy_effect['text'].apply(remove_common_words)\n",
    "\n",
    "# Recreate split data\n",
    "decreasing_rates = policy_effect[policy_effect['AVG_change'] > 0]\n",
    "increasing_rates = policy_effect[policy_effect['AVG_change'] < 0]\n",
    "\n",
    "dec_words = (\" \".join(decreasing_rates['text']).split())\n",
    "inc_words = (\" \".join(increasing_rates['text']).split())\n",
    "\n",
    "dec_most_common = Counter(dec_words).most_common(10)\n",
    "inc_most_common = Counter(inc_words).most_common(10)\n",
    "\n",
    "print(\"Most common words in transcripts with rate decreasing effect:\")\n",
    "print(dec_most_common[:10], \"\\n\")\n",
    "\n",
    "print(\"Most common words in transcripts with rate increasing effect:\")\n",
    "print(inc_most_common)"
   ]
  },
  {
   "cell_type": "markdown",
   "metadata": {},
   "source": [
    "Now we can see more differentiation in the common words. \n",
    "\n",
    "Let's continue by applying TF/IDF analysis on the datasets."
   ]
  },
  {
   "cell_type": "code",
   "execution_count": 50,
   "metadata": {},
   "outputs": [
    {
     "name": "stdout",
     "output_type": "stream",
     "text": [
      "Words with highest TF/IDF in transcripts followed by decreasing rates:\n",
      "1   ab            0.0713\n",
      "2   draghi        0.0662\n",
      "3   qe            0.0615\n",
      "4   securitis     0.0603\n",
      "5   sluggish      0.0550\n",
      "6   deflat        0.0546\n",
      "7   unlimit       0.0541\n",
      "8   nonstandard   0.0529\n",
      "9   trap          0.0520\n",
      "10  sme           0.0520\n",
      "\n",
      "Words with highest TF/IDF in transcripts followed by increasing rates:\n",
      "1  tpi           0.0713\n",
      "2  datadepend    0.0662\n",
      "3  cent          0.0615\n",
      "4  steadi        0.0603\n",
      "5  ga            0.0550\n",
      "6  meetingbymeet 0.0546\n",
      "7  ukrain        0.0541\n",
      "8  hike          0.0529\n",
      "9  termin        0.0520\n",
      "10 slovenia      0.0520\n"
     ]
    }
   ],
   "source": [
    "from sklearn.feature_extraction.text import TfidfVectorizer\n",
    "import numpy as np\n",
    "\n",
    "dec_doc = (\" \").join(decreasing_rates['text'])\n",
    "inc_doc = (\" \").join(increasing_rates['text'])\n",
    "\n",
    "corpus = [dec_doc, inc_doc]\n",
    "\n",
    "vectorizer = TfidfVectorizer(smooth_idf=True, sublinear_tf=True)\n",
    "X = vectorizer.fit_transform(corpus)\n",
    "\n",
    "K = 10\n",
    "\n",
    "print(\"Words with highest TF/IDF in transcripts followed by decreasing rates:\")\n",
    "\n",
    "idx_dec = np.flip(np.argsort(X[0, :].A)[0][-K:])\n",
    "dec_scores = np.flip(np.sort(X[0, :].A)[0][-K:])\n",
    "dec_words = vectorizer.get_feature_names_out()[idx_dec]\n",
    "\n",
    "for i in range(10):\n",
    "    print(f'{i+1: <3} {dec_words[i]: <13} {\"{:.4f}\".format(dec_scores[i])}')\n",
    "\n",
    "print(\"\\nWords with highest TF/IDF in transcripts followed by increasing rates:\")\n",
    "\n",
    "idx_inc = np.flip(np.argsort(X[1, :].A)[0][-K:])\n",
    "inc_scores = np.flip(np.sort(X[1, :].A)[0][-K:])\n",
    "inc_words = vectorizer.get_feature_names_out()[idx_inc]\n",
    "\n",
    "for i in range(10):\n",
    "    print(f'{i+1: <3}{inc_words[i]: <13} {\"{:.4f}\".format(dec_scores[i])}')\n"
   ]
  },
  {
   "cell_type": "markdown",
   "metadata": {},
   "source": [
    "This result seems slightly gibberish, and we can conclude that more defined text preprocessing could give us more meaningful results. However, for the scope of this project, we'll settle for this result.\n",
    "\n",
    "To further analyse the given text data, we can fit the data into a logistic regression model."
   ]
  },
  {
   "cell_type": "code",
   "execution_count": 51,
   "metadata": {},
   "outputs": [
    {
     "name": "stderr",
     "output_type": "stream",
     "text": [
      "/tmp/ipykernel_37520/1772990976.py:19: SettingWithCopyWarning: \n",
      "A value is trying to be set on a copy of a slice from a DataFrame.\n",
      "Try using .loc[row_indexer,col_indexer] = value instead\n",
      "\n",
      "See the caveats in the documentation: https://pandas.pydata.org/pandas-docs/stable/user_guide/indexing.html#returning-a-view-versus-a-copy\n",
      "  policy_effect['label'] = policy_effect['AVG_change'].apply(label_change)\n"
     ]
    },
    {
     "name": "stdout",
     "output_type": "stream",
     "text": [
      "Accuracy: 0.83\n"
     ]
    },
    {
     "data": {
      "image/png": "[encoded data removed]",
      "text/plain": [
       "<Figure size 432x288 with 2 Axes>"
      ]
     },
     "metadata": {
      "needs_background": "light"
     },
     "output_type": "display_data"
    }
   ],
   "source": [
    "from sklearn.linear_model import LogisticRegression\n",
    "from sklearn.model_selection import train_test_split\n",
    "from sklearn.metrics import confusion_matrix, ConfusionMatrixDisplay, accuracy_score\n",
    "import seaborn as sns\n",
    "import matplotlib.pyplot as plt\n",
    "\n",
    "\n",
    "model = LogisticRegression()\n",
    "\n",
    "def label_change(x):\n",
    "    if x > 0:\n",
    "        return 1\n",
    "    elif x < 0:\n",
    "        return -1\n",
    "    else:\n",
    "        return 0\n",
    "    \n",
    "# Create a ternary label column\n",
    "policy_effect['label'] = policy_effect['AVG_change'].apply(label_change)\n",
    "\n",
    "X_train, X_test, y_train, y_test = train_test_split(policy_effect[\"text\"], policy_effect['label'], test_size=0.2, random_state=i)\n",
    "\n",
    "vectorizer = TfidfVectorizer(smooth_idf=True, sublinear_tf=True)\n",
    "X_train_tfidf = vectorizer.fit_transform(X_train)\n",
    "X_test_tfidf = vectorizer.transform(X_test)\n",
    "\n",
    "lr_model = LogisticRegression()\n",
    "lr_model.fit(X_train_tfidf, y_train)\n",
    "\n",
    "y_pred = lr_model.predict(X_test_tfidf)\n",
    "\n",
    "accuracy = accuracy_score(y_test, y_pred)\n",
    "\n",
    "print(f\"Accuracy: {accuracy:.2f}\")\n",
    "success_rates.append(accuracy)\n",
    "\n",
    "cm = confusion_matrix(y_test, y_pred)\n",
    "disp = ConfusionMatrixDisplay(confusion_matrix=cm, display_labels=[\"decrease\", \"no change\", \"increase\"])\n",
    "disp.plot()\n",
    "plt.show()"
   ]
  },
  {
   "cell_type": "markdown",
   "metadata": {},
   "source": [
    "The data points where there is no change in the interest rate seems to be heavily represent in the data, resulting our model predicting all test input as \"no change\". To avoid this, let's drop the \"no change\" rows, and compare only the rows that had an change in the interest rates."
   ]
  },
  {
   "cell_type": "code",
   "execution_count": 52,
   "metadata": {},
   "outputs": [
    {
     "name": "stdout",
     "output_type": "stream",
     "text": [
      "Accuracy: 0.82\n"
     ]
    },
    {
     "data": {
      "image/png": "[encoded data removed]",
      "text/plain": [
       "<Figure size 432x288 with 2 Axes>"
      ]
     },
     "metadata": {
      "needs_background": "light"
     },
     "output_type": "display_data"
    },
    {
     "name": "stdout",
     "output_type": "stream",
     "text": [
      "Accuracy: 0.82\n"
     ]
    },
    {
     "data": {
      "image/png": "[encoded data removed]",
      "text/plain": [
       "<Figure size 432x288 with 2 Axes>"
      ]
     },
     "metadata": {
      "needs_background": "light"
     },
     "output_type": "display_data"
    },
    {
     "name": "stdout",
     "output_type": "stream",
     "text": [
      "Accuracy: 1.00\n"
     ]
    },
    {
     "data": {
      "image/png": "[encoded data removed]",
      "text/plain": [
       "<Figure size 432x288 with 2 Axes>"
      ]
     },
     "metadata": {
      "needs_background": "light"
     },
     "output_type": "display_data"
    },
    {
     "name": "stdout",
     "output_type": "stream",
     "text": [
      "Accuracy: 0.82\n"
     ]
    },
    {
     "data": {
      "image/png": "[encoded data removed]",
      "text/plain": [
       "<Figure size 432x288 with 2 Axes>"
      ]
     },
     "metadata": {
      "needs_background": "light"
     },
     "output_type": "display_data"
    },
    {
     "name": "stdout",
     "output_type": "stream",
     "text": [
      "Accuracy: 0.82\n"
     ]
    },
    {
     "data": {
      "image/png": "[encoded data removed]",
      "text/plain": [
       "<Figure size 432x288 with 2 Axes>"
      ]
     },
     "metadata": {
      "needs_background": "light"
     },
     "output_type": "display_data"
    },
    {
     "name": "stdout",
     "output_type": "stream",
     "text": [
      "Average accuracy: 0.85\n"
     ]
    }
   ],
   "source": [
    "# Drop rows where AVG_change = 0 to give more weight on the increase/decrease effect\n",
    "policy_effect = policy_effect[policy_effect['AVG_change'] != 0]\n",
    "    \n",
    "# Convert the AVG_change column to a binary label column\n",
    "policy_effect['label'] = policy_effect['AVG_change'].apply(lambda x: 1 if x > 0 else 0)\n",
    "\n",
    "success_rates = []\n",
    "\n",
    "# Run test logistic regression 5 times with different random states\n",
    "for i in range(5): \n",
    "    X_train, X_test, y_train, y_test = train_test_split(policy_effect[\"text\"], policy_effect['label'], test_size=0.2, random_state=i)\n",
    "\n",
    "    vectorizer = TfidfVectorizer(smooth_idf=True, sublinear_tf=True)\n",
    "    X_train_tfidf = vectorizer.fit_transform(X_train)\n",
    "    X_test_tfidf = vectorizer.transform(X_test)\n",
    "\n",
    "    lr_model = LogisticRegression()\n",
    "    lr_model.fit(X_train_tfidf, y_train)\n",
    "\n",
    "    y_pred = lr_model.predict(X_test_tfidf)\n",
    "\n",
    "    accuracy = accuracy_score(y_test, y_pred)\n",
    "\n",
    "    print(f\"Accuracy: {accuracy:.2f}\")\n",
    "\n",
    "    success_rates.append(accuracy)\n",
    "\n",
    "    cm = confusion_matrix(y_test, y_pred)\n",
    "    disp = ConfusionMatrixDisplay(confusion_matrix=cm, display_labels=[\"decrease\", \"increase\"])\n",
    "    disp.plot()\n",
    "    plt.show()\n",
    "\n",
    "print(f\"Average accuracy: {np.mean(success_rates):.2f}\")"
   ]
  },
  {
   "cell_type": "markdown",
   "metadata": {},
   "source": [
    "We can now get more accurate results when we dropped out the data points where there was no change in the rates. With logistic regression model we can now predict the correct direction with a 0.85 average. Perhaps further preprocessing of the text data could've let in better results in the ternary comparison."
   ]
  }
 ],
 "metadata": {
  "kernelspec": {
   "display_name": "Python 3",
   "language": "python",
   "name": "python3"
  },
  "language_info": {
   "codemirror_mode": {
    "name": "ipython",
    "version": 3
   },
   "file_extension": ".py",
   "mimetype": "text/x-python",
   "name": "python",
   "nbconvert_exporter": "python",
   "pygments_lexer": "ipython3",
   "version": "3.10.12"
  }
 },
 "nbformat": 4,
 "nbformat_minor": 2
}
