{
 "cells": [
  {
   "cell_type": "code",
   "execution_count": 25,
   "metadata": {},
   "outputs": [],
   "source": [
    "import pandas as pd\n",
    "\n",
    "press_releases = pd.read_csv('ecb_scraper/outputs/clean_text_excl_nums.csv')\n",
    "key_rates = pd.read_csv('ECB_key_rates/ECB Data Portal_20231016130234.csv')\n",
    "\n",
    "# Merge press_releases and key_rates on date\n",
    "press_releases['date'] = pd.to_datetime(press_releases['date'])\n",
    "key_rates['date'] = pd.to_datetime(key_rates['DATE'])\n",
    "merged = press_releases.merge(key_rates, on='date', how='left')\n",
    "\n",
    "data = merged.drop(columns=['DATE', 'TIME PERIOD'])\n",
    "data = data.rename(columns={data.columns[2]: 'DFR', data.columns[3]: 'MLF', data.columns[4]: ' MRO'})\n",
    "\n",
    "data['DFR_change'] = data['DFR'].diff()\n",
    "data['MLF_change'] = data['MLF'].diff()\n",
    "data['MRO_change'] = data[' MRO'].diff()\n",
    "data['AVG_change'] = data[['DFR_change', 'MLF_change', 'MRO_change']].mean(axis=1)\n",
    "\n",
    "policy_effect = data[['date', 'text', 'AVG_change']]\n",
    "policy_effect.to_csv('policy_change_rates.csv', index=False)\n"
   ]
  }
 ],
 "metadata": {
  "kernelspec": {
   "display_name": "Python 3",
   "language": "python",
   "name": "python3"
  },
  "language_info": {
   "codemirror_mode": {
    "name": "ipython",
    "version": 3
   },
   "file_extension": ".py",
   "mimetype": "text/x-python",
   "name": "python",
   "nbconvert_exporter": "python",
   "pygments_lexer": "ipython3",
   "version": "3.10.12"
  }
 },
 "nbformat": 4,
 "nbformat_minor": 2
}
